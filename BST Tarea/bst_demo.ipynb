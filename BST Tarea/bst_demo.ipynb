{
 "cells": [
  {
   "cell_type": "markdown",
   "metadata": {},
   "source": [
    "\n",
    "### < Tarea sobre la función delete()>\n",
    "---\n",
    "\n",
    "< Juan Pablo Madriz >  \n",
    "< 20240841 >"
   ]
  },
  {
   "cell_type": "code",
   "execution_count": 19,
   "metadata": {},
   "outputs": [],
   "source": [
    "from bst import BinarySearchTree"
   ]
  },
  {
   "cell_type": "code",
   "execution_count": 20,
   "metadata": {},
   "outputs": [],
   "source": [
    "tree = BinarySearchTree()"
   ]
  },
  {
   "cell_type": "code",
   "execution_count": 21,
   "metadata": {},
   "outputs": [],
   "source": [
    "vals = [50, 25, 70, 15, 60, 30, 10, 20, 65, 55,\n",
    "           5, 12, 28, 35, 40, 32, 75, 72, 68, 45,\n",
    "           22, 18, 62, 58, 48] # Agregar 25 valores aleatorios que permitan demostrar los 3 casos de delete\n",
    "for val in vals:\n",
    "    tree.insert(val)"
   ]
  },
  {
   "cell_type": "code",
   "execution_count": 22,
   "metadata": {},
   "outputs": [
    {
     "name": "stdout",
     "output_type": "stream",
     "text": [
      "\n",
      "               ______________50_____________\n",
      "              /                             \\\n",
      "       ______25___                   ______70___\n",
      "      /           \\                 /           \\\n",
      "   __15___       30___           __60___       75\n",
      "  /       \\     /     \\         /       \\     /\n",
      " 10_     20_   28    35_       55_     65_   72\n",
      "/   \\   /   \\       /   \\         \\   /   \\\n",
      "5  12  18  22      32  40_       58  62  68\n",
      "                          \\\n",
      "                         45_\n",
      "                            \\\n",
      "                           48\n"
     ]
    }
   ],
   "source": [
    "tree.print_pretty()"
   ]
  },
  {
   "cell_type": "markdown",
   "metadata": {},
   "source": [
    "## Delete - caso no. 1\n",
    "\n",
    "Eliminamos un nodo sin hijos.\n",
    "En este caso, simplemente lo desconectamos de su padre y el árbol no necesita ninguna reestructuración "
   ]
  },
  {
   "cell_type": "code",
   "execution_count": 13,
   "metadata": {},
   "outputs": [
    {
     "name": "stdout",
     "output_type": "stream",
     "text": [
      "\n",
      "Elimminar nodo sin hijos\n",
      "Deleting node with value 48.\n",
      "\n",
      "               ____________50_____________\n",
      "              /                           \\\n",
      "       ______25___                 ______70___\n",
      "      /           \\               /           \\\n",
      "   __15___       30___         __60___       75\n",
      "  /       \\     /     \\       /       \\     /\n",
      " 10_     20_   28    35_     55_     65_   72\n",
      "/   \\   /   \\       /   \\       \\   /   \\\n",
      "5  12  18  22      32  40_     58  62  68\n",
      "                          \\\n",
      "                         45\n"
     ]
    }
   ],
   "source": [
    "print(\"\\nElimminar nodo sin hijos\")\n",
    "tree.delete(48)\n",
    "tree.print_pretty()\n"
   ]
  },
  {
   "cell_type": "markdown",
   "metadata": {},
   "source": [
    "## Delete - caso no. 2\n",
    "\n",
    "Eliminamos un nodo que tiene un solo hijo.\n",
    "En este caso, el hijo reemplaza al nodo eliminado, conectándose directamente con el abuelo."
   ]
  },
  {
   "cell_type": "code",
   "execution_count": 15,
   "metadata": {},
   "outputs": [
    {
     "name": "stdout",
     "output_type": "stream",
     "text": [
      "\n",
      "Eliminar nodo conn hijo\n",
      "Deleting node with value 40.\n",
      "\n",
      "               __________50_____________\n",
      "              /                         \\\n",
      "       ______25___               ______70___\n",
      "      /           \\             /           \\\n",
      "   __15___       30___       __60___       75\n",
      "  /       \\     /     \\     /       \\     /\n",
      " 10_     20_   28    35_   55_     65_   72\n",
      "/   \\   /   \\       /   \\     \\   /   \\\n",
      "5  12  18  22      32  45    58  62  68\n"
     ]
    }
   ],
   "source": [
    "print(\"\\nEliminar nodo conn hijo\")\n",
    "tree.delete(40)\n",
    "tree.print_pretty()\n"
   ]
  },
  {
   "cell_type": "markdown",
   "metadata": {},
   "source": [
    "## Delete - caso no. 3\n",
    "Eliminamos un nodo con dos hijos.\n",
    "Buscamos el sucesor in-order (el menor valor del subárbol derecho), lo copiamos al nodo actual, y luego eliminamos ese sucesor (que siempre será caso 1 o 2)."
   ]
  },
  {
   "cell_type": "code",
   "execution_count": 17,
   "metadata": {},
   "outputs": [
    {
     "name": "stdout",
     "output_type": "stream",
     "text": [
      "\n",
      "Eliminar nodo con dos hijos\n",
      "Deleting node with value 35.\n",
      "Deleting node with value 45.\n",
      "\n",
      "               ________50_____________\n",
      "              /                       \\\n",
      "       ______25___             ______70___\n",
      "      /           \\           /           \\\n",
      "   __15___       30___     __60___       75\n",
      "  /       \\     /     \\   /       \\     /\n",
      " 10_     20_   28    45  55_     65_   72\n",
      "/   \\   /   \\       /       \\   /   \\\n",
      "5  12  18  22      32      58  62  68\n"
     ]
    }
   ],
   "source": [
    "print(\"\\nEliminar nodo con dos hijos\")\n",
    "tree.delete(35)\n",
    "tree.print_pretty()"
   ]
  },
  {
   "cell_type": "markdown",
   "metadata": {},
   "source": [
    "---"
   ]
  }
 ],
 "metadata": {
  "kernelspec": {
   "display_name": "Python 3",
   "language": "python",
   "name": "python3"
  },
  "language_info": {
   "codemirror_mode": {
    "name": "ipython",
    "version": 3
   },
   "file_extension": ".py",
   "mimetype": "text/x-python",
   "name": "python",
   "nbconvert_exporter": "python",
   "pygments_lexer": "ipython3",
   "version": "3.12.8"
  }
 },
 "nbformat": 4,
 "nbformat_minor": 2
}
